{
 "cells": [
  {
   "cell_type": "markdown",
   "metadata": {},
   "source": [
    "# What is a generator?\n",
    "1. Compute in run-time\n",
    "2. Iteratable: next(), iter(), for, comprehension\n",
    "3. Needs __iter__(), __next__(), and raise StopIteration\n",
    "4. Generator is consumed by iteration."
   ]
  },
  {
   "cell_type": "code",
   "execution_count": 34,
   "metadata": {},
   "outputs": [
    {
     "name": "stdout",
     "output_type": "stream",
     "text": [
      "100\n"
     ]
    },
    {
     "data": {
      "text/plain": [
       "[101, 102]"
      ]
     },
     "execution_count": 34,
     "metadata": {},
     "output_type": "execute_result"
    }
   ],
   "source": [
    "class MyGenerator1:\n",
    "    def __init__(self, initValue, length):\n",
    "        self.value = initValue\n",
    "        self.length = length\n",
    "    \n",
    "    def __iter__(self):\n",
    "        return self\n",
    "    \n",
    "    def __next__(self):\n",
    "        if (self.length <= 0):\n",
    "            raise StopIteration\n",
    "            \n",
    "        res = self.value\n",
    "        self.value += 1\n",
    "        self.length -= 1\n",
    "        return res\n",
    "    \n",
    "\n",
    "length = 3\n",
    "gen = MyGenerator1(100, length)\n",
    "print(next(gen))\n",
    "[x for x in gen]"
   ]
  },
  {
   "cell_type": "markdown",
   "metadata": {},
   "source": [
    "# Define generator with _yield_"
   ]
  },
  {
   "cell_type": "code",
   "execution_count": 35,
   "metadata": {},
   "outputs": [
    {
     "data": {
      "text/plain": [
       "[0, 1, 2]"
      ]
     },
     "execution_count": 35,
     "metadata": {},
     "output_type": "execute_result"
    }
   ],
   "source": [
    "from itertools import count\n",
    "\n",
    "def myGenerator2():\n",
    "    for x in count():\n",
    "        # use yield to return value.\n",
    "        yield x\n",
    "\n",
    "    # This funciton return a generator. Clause 'return' should not be used.\n",
    "\n",
    "gen = myGenerator2()\n",
    "\n",
    "[next(gen) for i in range(3)]"
   ]
  },
  {
   "cell_type": "markdown",
   "metadata": {},
   "source": [
    "# Define generator using ()"
   ]
  },
  {
   "cell_type": "code",
   "execution_count": 36,
   "metadata": {},
   "outputs": [
    {
     "data": {
      "text/plain": [
       "[5, 6, 7, 8, 9]"
      ]
     },
     "execution_count": 36,
     "metadata": {},
     "output_type": "execute_result"
    }
   ],
   "source": [
    "from itertools import count, islice\n",
    "gen = (x for x in count())\n",
    "list(islice(gen, 5, 10))"
   ]
  },
  {
   "cell_type": "markdown",
   "metadata": {},
   "source": [
    "# Iterator tools with generator"
   ]
  },
  {
   "cell_type": "markdown",
   "metadata": {},
   "source": [
    "## Slice: islice"
   ]
  },
  {
   "cell_type": "code",
   "execution_count": 37,
   "metadata": {},
   "outputs": [
    {
     "name": "stdout",
     "output_type": "stream",
     "text": [
      "[5, 6, 7, 8, 9]\n",
      "0\n",
      "1\n",
      "2\n",
      "3\n",
      "4\n",
      "5\n"
     ]
    },
    {
     "data": {
      "text/plain": [
       "[0, 1, 2, 3, 4, 5, 6, 7, 8, 9]"
      ]
     },
     "execution_count": 37,
     "metadata": {},
     "output_type": "execute_result"
    }
   ],
   "source": [
    "from itertools import islice, takewhile\n",
    "gen = myGenerator2()\n",
    "print(list(islice(gen, 5, 10)))\n",
    "\n",
    "# use enumerate to get leading elements\n",
    "gen2 = myGenerator2()\n",
    "for i, elem in enumerate(gen2, start=5):\n",
    "    if i > 10:\n",
    "        break;\n",
    "    print(elem)\n",
    "\n",
    "# use takewhile to get leading elements\n",
    "gen3 = myGenerator2()\n",
    "list(takewhile(lambda x: x < 10, gen3))"
   ]
  },
  {
   "cell_type": "markdown",
   "metadata": {},
   "source": [
    "## Copy: tee\n",
    "Iteration consumes generator, so copy can be useful."
   ]
  },
  {
   "cell_type": "code",
   "execution_count": 38,
   "metadata": {},
   "outputs": [
    {
     "name": "stdout",
     "output_type": "stream",
     "text": [
      "4 5 6\n",
      "6 7 8\n",
      "7 8 9\n"
     ]
    }
   ],
   "source": [
    "from itertools import islice, tee\n",
    "\n",
    "###########################################################\n",
    "# Find 3 continuing numbers\n",
    "#\n",
    "\n",
    "seeds = [1, 2, 0, 4, 5, 6, 9, 2, 6, 7, 8, 9, 2]\n",
    "nums = (x for x in seeds)\n",
    "\n",
    "def windows(ns):\n",
    "    n1, n2, n3 = tee(ns, 3)\n",
    "    return zip(n1, islice(n2, 1, None), islice(n3, 2, None))\n",
    "\n",
    "for a, b, c in windows(nums):\n",
    "    if a + 1 == b and b + 1 == c:\n",
    "        print(a, b, c)"
   ]
  },
  {
   "cell_type": "markdown",
   "metadata": {},
   "source": [
    "## Join: chain"
   ]
  },
  {
   "cell_type": "markdown",
   "metadata": {},
   "source": [
    "# Generator expression"
   ]
  },
  {
   "cell_type": "code",
   "execution_count": 39,
   "metadata": {},
   "outputs": [
    {
     "name": "stdout",
     "output_type": "stream",
     "text": [
      "[0, 1, 2, 3, 4, 5, 6, 7]\n",
      "[]\n",
      "[0, 1, 2, 3, 4, 5, 6, 7]\n",
      "[0, 1, 2, 3, 4, 5, 6, 7]\n"
     ]
    }
   ],
   "source": [
    "# Generator expression: like a instance\n",
    "genExpr = (x for x in count())\n",
    "\n",
    "print(list(takewhile(lambda x: x < 8, genExpr)))\n",
    "print(list(takewhile(lambda x: x < 8, genExpr))) # empty, since gen was exausted\n",
    "\n",
    "# How to work about that? A function that return a generator expression\n",
    "genExprFunc = lambda: (x for x in count())\n",
    "print(list(takewhile(lambda x: x < 8, genExprFunc())))\n",
    "print(list(takewhile(lambda x: x < 8, genExprFunc())))"
   ]
  }
 ],
 "metadata": {
  "kernelspec": {
   "display_name": "Python 3",
   "language": "python",
   "name": "python3"
  },
  "language_info": {
   "codemirror_mode": {
    "name": "ipython",
    "version": 3
   },
   "file_extension": ".py",
   "mimetype": "text/x-python",
   "name": "python",
   "nbconvert_exporter": "python",
   "pygments_lexer": "ipython3",
   "version": "3.6.5"
  }
 },
 "nbformat": 4,
 "nbformat_minor": 2
}
