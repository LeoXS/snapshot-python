{
 "cells": [
  {
   "cell_type": "markdown",
   "metadata": {},
   "source": [
    "# What is coroutine?\n",
    "> A generalization of subroutines.\n",
    "## A fundamental quesstion: how to organize the sequential execution of a series of subroutines?\n",
    "Coroutine is a solution of that which cooperatively passes flow control amount routines.\n",
    "\n",
    "## Compare coroutine with function and generator\n",
    "* Function\n",
    "\n",
    "input -->  [   ]  --> output\n",
    "\n",
    "* Generator\n",
    "\n",
    "input -->  [   ]  --> partial output\n",
    "\n",
    "      -->  [   ]  --> partial output\n",
    "    \n",
    "      -->  [   ]  --> partial output\n",
    "\n",
    "* Coroutines\n",
    "\n",
    "partial input -->  [   ]  --> partial output\n",
    "\n",
    "partial input -->  [   ]  --> partial output\n",
    "\n",
    "partial input -->  [   ]  --> partial output"
   ]
  },
  {
   "cell_type": "markdown",
   "metadata": {},
   "source": [
    "# Write a context manager\n",
    "\n",
    "1. a class with \\__enter__() and \\__exit__()\n",
    "2. using @contextmanager: decorate a generator function that calls yield exactly once. Everything before the call to yield is considered the code for \\__enter__(). Everything after is the code for \\__exit__(). "
   ]
  },
  {
   "cell_type": "code",
   "execution_count": 1,
   "metadata": {},
   "outputs": [],
   "source": [
    "from contextlib import contextmanager\n",
    "from time import time\n",
    "\n",
    "@contextmanager\n",
    "def timer():\n",
    "    start = time()\n",
    "    try:\n",
    "        yield\n",
    "        print(f'\\N{greek capital letter delta}t \\N{rightwards arrow} {time() - start:.2f}s')\n",
    "    finally:\n",
    "        pass"
   ]
  },
  {
   "cell_type": "markdown",
   "metadata": {},
   "source": [
    "# A simple coroutine"
   ]
  },
  {
   "cell_type": "code",
   "execution_count": 17,
   "metadata": {
    "slideshow": {
     "slide_type": "-"
    }
   },
   "outputs": [
    {
     "name": "stdout",
     "output_type": "stream",
     "text": [
      "Let's go!\n",
      "1\n",
      "1\n",
      "10\n",
      "10\n"
     ]
    }
   ],
   "source": [
    "def procedures():\n",
    "    x = yield \"Let's go!\"\n",
    "    while True:\n",
    "        newX = yield x\n",
    "        if newX is not None:\n",
    "            x = newX\n",
    "\n",
    "proc = procedures()\n",
    "print(next(proc))    # -> proc.__next__() -> proc.send(None)\n",
    "print(proc.send(1))  # send init x\n",
    "print(next(proc))\n",
    "print(proc.send(10))  # update x\n",
    "print(next(proc))"
   ]
  }
 ],
 "metadata": {
  "kernelspec": {
   "display_name": "Python 3",
   "language": "python",
   "name": "python3"
  },
  "language_info": {
   "codemirror_mode": {
    "name": "ipython",
    "version": 3
   },
   "file_extension": ".py",
   "mimetype": "text/x-python",
   "name": "python",
   "nbconvert_exporter": "python",
   "pygments_lexer": "ipython3",
   "version": "3.6.5"
  }
 },
 "nbformat": 4,
 "nbformat_minor": 2
}
